{
 "cells": [
  {
   "cell_type": "markdown",
   "metadata": {},
   "source": [
    "Alisher Tortay\n"
   ]
  },
  {
   "cell_type": "code",
   "execution_count": 2,
   "metadata": {
    "collapsed": false
   },
   "outputs": [
    {
     "name": "stdout",
     "output_type": "stream",
     "text": [
      "Populating the interactive namespace from numpy and matplotlib\n"
     ]
    }
   ],
   "source": [
    "import numpy as np\n",
    "from sklearn.datasets import load_svmlight_file\n",
    "%pylab inline\n",
    "import matplotlib.pyplot as plt"
   ]
  },
  {
   "cell_type": "markdown",
   "metadata": {},
   "source": [
    "## 1) Linear regression"
   ]
  },
  {
   "cell_type": "markdown",
   "metadata": {
    "collapsed": true
   },
   "source": [
    "I added ones in last row of x matrix"
   ]
  },
  {
   "cell_type": "code",
   "execution_count": 5,
   "metadata": {
    "collapsed": false
   },
   "outputs": [],
   "source": [
    "x_data, y_data = load_svmlight_file(\"data1.txt\")\n",
    "x = np.full((x_data.shape[0], x_data.shape[1]+1), 1.0)\n",
    "y = y_data \n",
    "x[:,:-1] = x_data.todense()"
   ]
  },
  {
   "cell_type": "markdown",
   "metadata": {},
   "source": [
    "Analytical solution from lecture slides"
   ]
  },
  {
   "cell_type": "code",
   "execution_count": 6,
   "metadata": {
    "collapsed": true
   },
   "outputs": [],
   "source": [
    "def analytic_sol(x,y):\n",
    "    x_trans = x.transpose()\n",
    "    b = np.dot(x_trans,x)\n",
    "    c = np.dot(x_trans, y)\n",
    "    return np.linalg.solve(b, c)"
   ]
  },
  {
   "cell_type": "markdown",
   "metadata": {},
   "source": [
    "L1 prediction error"
   ]
  },
  {
   "cell_type": "code",
   "execution_count": 7,
   "metadata": {
    "collapsed": true
   },
   "outputs": [],
   "source": [
    "def testError(x, y, b):\n",
    "    x1 = x.transpose()\n",
    "    temp1 = y - np.dot(b, x1)\n",
    "    temp2 = np.absolute(temp1)\n",
    "    return np.sum(temp2)/len(y)"
   ]
  },
  {
   "cell_type": "markdown",
   "metadata": {},
   "source": [
    "Cost function which is basically L2 norm of residuals "
   ]
  },
  {
   "cell_type": "code",
   "execution_count": 8,
   "metadata": {
    "collapsed": true
   },
   "outputs": [],
   "source": [
    "def cost(x, y, b):\n",
    "    x1 = x.transpose()\n",
    "    temp1 = y - np.dot(b, x1)\n",
    "    temp2 = np.square(temp1)\n",
    "    return np.sum(temp2)/len(y)"
   ]
  },
  {
   "cell_type": "markdown",
   "metadata": {},
   "source": [
    "This is the main function of first problem. Here program randomly splits dataset 10 times. Each time it solves the optimization problem analytically and computes error and cost. Function returns list of errors and costs. "
   ]
  },
  {
   "cell_type": "code",
   "execution_count": 9,
   "metadata": {
    "collapsed": true
   },
   "outputs": [],
   "source": [
    "def lin1(x, y):\n",
    "    n = int(x.shape[0])\n",
    "    k = int(0.8*n)\n",
    "    eresult = []\n",
    "    costresult = []\n",
    "    for j in range(10):\n",
    "        a = range(n)\n",
    "        np.random.shuffle(a)\n",
    "        b = a[:k]\n",
    "        c = a[k:]\n",
    "        x_trn = x[b,:]\n",
    "        x_tst = x[c,:]\n",
    "        y_trn = y[b]\n",
    "        y_tst = y[c]\n",
    "        betta = analytic_sol(x_trn, y_trn)\n",
    "        eresult.append(testError(x_tst, y_tst, betta))\n",
    "        costresult.append(cost(x_tst, y_tst, betta))\n",
    "    return eresult, costresult"
   ]
  },
  {
   "cell_type": "markdown",
   "metadata": {},
   "source": [
    "main function call"
   ]
  },
  {
   "cell_type": "code",
   "execution_count": 10,
   "metadata": {
    "collapsed": false
   },
   "outputs": [],
   "source": [
    "err_lin1, cost_lin1 = lin1(x, y)"
   ]
  },
  {
   "cell_type": "markdown",
   "metadata": {},
   "source": [
    "Errors of 10 random splits"
   ]
  },
  {
   "cell_type": "code",
   "execution_count": 11,
   "metadata": {
    "collapsed": false
   },
   "outputs": [
    {
     "data": {
      "text/plain": [
       "[3.1539411396244796,\n",
       " 3.5090972999811592,\n",
       " 3.5118082351828308,\n",
       " 3.5138123841010809,\n",
       " 3.0094599178231851,\n",
       " 3.9271432756019156,\n",
       " 3.0027994685076269,\n",
       " 3.3606422618386027,\n",
       " 3.2052706108007705,\n",
       " 3.2605399723907866]"
      ]
     },
     "execution_count": 11,
     "metadata": {},
     "output_type": "execute_result"
    }
   ],
   "source": [
    "err_lin1"
   ]
  },
  {
   "cell_type": "markdown",
   "metadata": {},
   "source": [
    "Average error"
   ]
  },
  {
   "cell_type": "code",
   "execution_count": 32,
   "metadata": {
    "collapsed": false
   },
   "outputs": [
    {
     "data": {
      "text/plain": [
       "3.3454514565852436"
      ]
     },
     "execution_count": 32,
     "metadata": {},
     "output_type": "execute_result"
    }
   ],
   "source": [
    "error_analytic = np.sum(err_lin1)/10\n",
    "error_analytic"
   ]
  },
  {
   "cell_type": "markdown",
   "metadata": {},
   "source": [
    "Costs of 10 splits"
   ]
  },
  {
   "cell_type": "code",
   "execution_count": 13,
   "metadata": {
    "collapsed": false
   },
   "outputs": [
    {
     "data": {
      "text/plain": [
       "[19.596604363746273,\n",
       " 24.875081560267049,\n",
       " 24.268789930685703,\n",
       " 26.234827734061717,\n",
       " 15.974802516354274,\n",
       " 36.919026785503867,\n",
       " 16.951689333799202,\n",
       " 19.451744725070544,\n",
       " 19.167977247393488,\n",
       " 19.750425546746353]"
      ]
     },
     "execution_count": 13,
     "metadata": {},
     "output_type": "execute_result"
    }
   ],
   "source": [
    "cost_lin1"
   ]
  },
  {
   "cell_type": "markdown",
   "metadata": {},
   "source": [
    "Average cost. Save it for later use in Problem 2"
   ]
  },
  {
   "cell_type": "code",
   "execution_count": 14,
   "metadata": {
    "collapsed": false
   },
   "outputs": [
    {
     "data": {
      "text/plain": [
       "22.319096974362846"
      ]
     },
     "execution_count": 14,
     "metadata": {},
     "output_type": "execute_result"
    }
   ],
   "source": [
    "optimal_lin = np.sum(cost_lin1)/10\n",
    "optimal_lin"
   ]
  },
  {
   "cell_type": "markdown",
   "metadata": {},
   "source": [
    "In this part of homework we can see that analytical solution is fast and effective method to solve this kind of problems. Problem 1 was relatively easy. I spent most of the time on setting up python and getting used to new libraries."
   ]
  },
  {
   "cell_type": "markdown",
   "metadata": {},
   "source": [
    "## 2) Linear Regression"
   ]
  },
  {
   "cell_type": "markdown",
   "metadata": {},
   "source": [
    "Since we are using the same dataset, we'll just keep x and y"
   ]
  },
  {
   "cell_type": "markdown",
   "metadata": {},
   "source": [
    "Here is my implementation of gradient descent algorithm. After several trials I managed to make it more or less efficient by changing (almost) all python loops to matrix operations. Here I don't use any stopping condition except iterations number"
   ]
  },
  {
   "cell_type": "code",
   "execution_count": 15,
   "metadata": {
    "collapsed": true
   },
   "outputs": [],
   "source": [
    "def gradientDescent(alpha, x, y, max_iter=10000):\n",
    "    m = x.shape[0] # number of samples\n",
    "    n = x.shape[1] # number of features\n",
    "    x1 = x.transpose()\n",
    "    b = np.zeros(n, dtype=np.float64)\n",
    "    for _ in xrange(max_iter):\n",
    "        b_temp = np.zeros(n, dtype=np.float64)\n",
    "        temp = y - np.dot(b, x1)\n",
    "        for i in range(n):\n",
    "            b_temp[i] = np.sum(temp * x1[i])\n",
    "        b_temp *= alpha/m\n",
    "        b = b + b_temp\n",
    "    return b"
   ]
  },
  {
   "cell_type": "markdown",
   "metadata": {},
   "source": [
    "This is the main function of Problem 2. Here program randomly splits dataset 10 times. Each time it performs one gradient descent with step size of 0.1 (best I could find) and with 500 iterations. Then the program computes L1 error and appends it to errors list. It also solves analytically in each step. Moreover, there are 3 \"for\" loops with 100 iterations each. In each of these inner loops it performs one of three gradient descents with different step sizes andsame iteration number, which equals to 5 * i (i is iteration index of for loop). The program also computes corresponding costs and appends results to lists. Step sizes are: 0.1 (proper), 0.01 (too small), 0.409 (too large). Then I take average of this for loops over 10 splits and draw a plot iterations vs. cost. I also include cost of analytical method from Problem 1."
   ]
  },
  {
   "cell_type": "code",
   "execution_count": 29,
   "metadata": {
    "collapsed": true
   },
   "outputs": [],
   "source": [
    "def lin2(x, y):\n",
    "    n = int(x.shape[0])\n",
    "    k = int(0.8*n)\n",
    "    result = []\n",
    "    mr1 = []\n",
    "    mr2 = []\n",
    "    mr3 = []\n",
    "    analytical = []\n",
    "    for j in xrange(10):\n",
    "        a = range(n)\n",
    "        np.random.shuffle(a)\n",
    "        b = a[:k]\n",
    "        c = a[k:]\n",
    "        x_trn = x[b,:]\n",
    "        x_tst = x[c,:]\n",
    "        y_trn = y[b]\n",
    "        y_tst = y[c]    \n",
    "        betta = gradientDescent(0.1, x_trn, y_trn, 500)\n",
    "        result.append(testError(x_tst, y_tst, betta))\n",
    "        p = []\n",
    "        for i in xrange(100):\n",
    "            bb = gradientDescent(0.1, x_trn, y_trn, 5*i)\n",
    "            p.append(cost(x_tst, y_tst, bb))\n",
    "        mr1.append(p)\n",
    "        r = []\n",
    "        for i in xrange(100):\n",
    "            bb = gradientDescent(0.01, x_trn, y_trn, 5*i)\n",
    "            r.append(cost(x_tst, y_tst, bb))\n",
    "        mr2.append(r)\n",
    "        q = []\n",
    "        for i in xrange(100):\n",
    "            bb = gradientDescent(0.409, x_trn, y_trn, 5*i)\n",
    "            q.append(cost(x_tst, y_tst, bb))\n",
    "        mr3.append(q)\n",
    "        theta = analytic_sol(x_trn, y_trn)\n",
    "        analytical.append(cost(x_tst, y_tst, theta))\n",
    "    res = np.sum(result)/10\n",
    "    ave1 = np.sum(mr1, axis=0)/10\n",
    "    ave2 = np.sum(mr2, axis=0)/10\n",
    "    ave3 = np.sum(mr3, axis=0)/10\n",
    "    ave4 = np.sum(analytical, axis=0)/10\n",
    "    t = [5*i for i in xrange(100)]\n",
    "    analytic = [ave4 for _ in xrange(100)]\n",
    "    plt.plot(t, analytic, 'r', t, ave2, 'b', t ,ave3, 'g', t, ave1, 'y')\n",
    "    plt.axis([0, 500, 0, 600])\n",
    "    plt.ylabel(\"cost\")\n",
    "    plt.xlabel(\"iterations\")\n",
    "    plt.show()\n",
    "    return res"
   ]
  },
  {
   "cell_type": "markdown",
   "metadata": {},
   "source": [
    "In this graph red line is analytical method. It does not depend on number of iterations. Yellow line is dradient descent with fixed step size of 0.1. Blue and green lines are gradient descents with step sizes 0.01 and 0.409. In case of yellow line we can clearly see that it performs better than blue and green lines. Cost of yellow line dramatically decreases within first 10 iterations. Thus it converges to cost of analytical solution by 100th iteration. Blue line, representing too small step sizes, failed to completely diverge in 500 iterations. It could not reach the optimal value because step size is too small. Green line, representing too lagde step size, diverges as iterations increase. Interestingly, it's cost decreases until 50 iterations and then rockets up with some flactuations. In the beginnig cost decreases because optimal value for theta is far enough. But as we get closer to this method starts to \"jump over\" optimal theta and then jumps become bigger and bugger until it completely diverges."
   ]
  },
  {
   "cell_type": "code",
   "execution_count": 30,
   "metadata": {
    "collapsed": false
   },
   "outputs": [
    {
     "data": {
      "image/png": "[encoded data removed]",
      "text/plain": [
       "<matplotlib.figure.Figure at 0xa284a20>"
      ]
     },
     "metadata": {},
     "output_type": "display_data"
    }
   ],
   "source": [
    "error_gradient = lin2(x, y)"
   ]
  },
  {
   "cell_type": "markdown",
   "metadata": {},
   "source": [
    "Here error is 3.2280665573708696. It is close to analytic solution it is 3.3454514565852436. The difference can be explained by randomness of splits (since we computed there values in different functions). So we can conclude that gradiend descent performs as well as analytical solution in terms of error. "
   ]
  },
  {
   "cell_type": "code",
   "execution_count": 31,
   "metadata": {
    "collapsed": false
   },
   "outputs": [
    {
     "data": {
      "text/plain": [
       "3.2280665573708696"
      ]
     },
     "execution_count": 31,
     "metadata": {},
     "output_type": "execute_result"
    }
   ],
   "source": [
    "error_gradient"
   ]
  },
  {
   "cell_type": "markdown",
   "metadata": {},
   "source": [
    "## 3) Logistic Regression"
   ]
  },
  {
   "cell_type": "code",
   "execution_count": 22,
   "metadata": {
    "collapsed": true
   },
   "outputs": [],
   "source": [
    "x_data, y_data = load_svmlight_file(\"data2.txt\")\n",
    "x = np.ones((x_data.shape[0], x_data.shape[1]+1))\n",
    "x[:,:-1] = x_data.todense()\n",
    "y = y_data"
   ]
  },
  {
   "cell_type": "markdown",
   "metadata": {},
   "source": [
    "Sigmoid functions for vector inputs"
   ]
  },
  {
   "cell_type": "code",
   "execution_count": 23,
   "metadata": {
    "collapsed": true
   },
   "outputs": [],
   "source": [
    "def sigmoid(x):\n",
    "    temp1 = np.exp(x * -1)\n",
    "    temp2 = np.ones(len(x))\n",
    "    return np.divide(temp2,temp2 + temp1)"
   ]
  },
  {
   "cell_type": "markdown",
   "metadata": {},
   "source": [
    "Hypothesis function for vector and matrix inputs. It assumes that x is already transposed."
   ]
  },
  {
   "cell_type": "code",
   "execution_count": 24,
   "metadata": {
    "collapsed": true
   },
   "outputs": [],
   "source": [
    "def hypo(b, x):\n",
    "    # x is transposed\n",
    "    t0 = np.dot(b, x)\n",
    "    return sigmoid(t0)"
   ]
  },
  {
   "cell_type": "markdown",
   "metadata": {},
   "source": [
    "Log likelihood function. We will maximize this function or minimize negative this number. x here is matrix."
   ]
  },
  {
   "cell_type": "code",
   "execution_count": 25,
   "metadata": {
    "collapsed": true
   },
   "outputs": [],
   "source": [
    "def loglikelihood(x, y, b):\n",
    "    x1 = x.transpose()\n",
    "    temp1 = hypo(b, x1)\n",
    "    temp2 = y * np.log(temp1) + (1 - y) * np.log(1 - temp1)\n",
    "    return np.sum(temp2)/len(y)"
   ]
  },
  {
   "cell_type": "markdown",
   "metadata": {},
   "source": [
    "This gradient descent function minimizes our objective function (-loglikelihood). It uses fized step size. No stopping condition except iteration number"
   ]
  },
  {
   "cell_type": "code",
   "execution_count": 26,
   "metadata": {
    "collapsed": true
   },
   "outputs": [],
   "source": [
    "def logGradientDescent(alpha, x, y, max_iter=100):\n",
    "    m = x.shape[0] # number of samples\n",
    "    n = x.shape[1] # number of features\n",
    "    x1 = x.transpose()\n",
    "    b = np.zeros(n)\n",
    "    for _ in xrange(max_iter):\n",
    "        b_temp = np.zeros(n, dtype=np.float64)\n",
    "        temp = y - hypo(b, x1)\n",
    "        for i in range(n):\n",
    "            b_temp[i] = np.sum(temp * x1[i])\n",
    "        b_temp *= alpha/m\n",
    "        b = b + b_temp\n",
    "    return b"
   ]
  },
  {
   "cell_type": "markdown",
   "metadata": {},
   "source": [
    "This is similar gradient descent function with backtracking linear search. I used minus gradient of objective function as a direction. -1 is because objective function is negative of loglikelihood. I use standard algorith for backtracking linear search found in Wikipedia. No stopping condition except iteration number."
   ]
  },
  {
   "cell_type": "code",
   "execution_count": 27,
   "metadata": {
    "collapsed": true
   },
   "outputs": [],
   "source": [
    "def logGradientDescentBack(x, y, alpha, betta, max_iter=100):\n",
    "    m = x.shape[0] # number of samples\n",
    "    n = x.shape[1] # number of features\n",
    "    x1 = x.transpose()\n",
    "    b = np.zeros(n)\n",
    "    for _ in xrange(max_iter):\n",
    "        b_temp = np.zeros(n, dtype=np.float64)\n",
    "        temp = y - hypo(b, x1)\n",
    "        for i in range(n):\n",
    "            b_temp[i] = np.sum(temp * x1[i])\n",
    "        b_temp /= m\n",
    "        p = np.divide(b_temp, np.linalg.norm(b_temp))\n",
    "        grad = b_temp * (-1)\n",
    "        fx = loglikelihood(x, y, b)\n",
    "        step = 1\n",
    "        while (-1*loglikelihood(x, y, b + step * p) > (-1*fx + alpha * step * np.dot(grad, p))):\n",
    "            step *= betta\n",
    "        b_temp *= step\n",
    "        b = b + b_temp\n",
    "    return b"
   ]
  },
  {
   "cell_type": "markdown",
   "metadata": {},
   "source": [
    "This functions predicts value of y based on x and b (theta). Basically it computes hypothesis and compares with 0.5. If greater than 0.5 it predicts 1 other wise 0."
   ]
  },
  {
   "cell_type": "code",
   "execution_count": 28,
   "metadata": {
    "collapsed": true
   },
   "outputs": [],
   "source": [
    "def predict(x, b):\n",
    "    m = x.shape[0] # number of test samples\n",
    "    x1 = x.transpose()\n",
    "    y = np.zeros(m, dtype=np.float64)\n",
    "    prob = hypo(b, x1)\n",
    "    for i in xrange(m):\n",
    "        if (prob[i] > 0.5):\n",
    "            y[i] = 1.0\n",
    "    return y"
   ]
  },
  {
   "cell_type": "markdown",
   "metadata": {},
   "source": [
    "This function computes error rate of our hypothesis."
   ]
  },
  {
   "cell_type": "code",
   "execution_count": 32,
   "metadata": {
    "collapsed": true
   },
   "outputs": [],
   "source": [
    "def predError(x, y, b):\n",
    "    y1 = predict(x, b)\n",
    "    return np.sum(np.absolute(y1 - y))/len(y)"
   ]
  },
  {
   "cell_type": "markdown",
   "metadata": {},
   "source": [
    "This is the main function of Problem 3. As before the program splits the dataset randomnly into training and test sets 10 times. Each time it runs while loop similar to lin2 function. Inside of this inner loop we perform both gradient descent with fixed step and with backtracking line search. We save loglikelihoods of these function. In each of 10 times we also compute prediction error for both cases and return them. Then it averages likelihoods from inner loop over 10 times and plots a graph.  "
   ]
  },
  {
   "cell_type": "code",
   "execution_count": 33,
   "metadata": {
    "collapsed": true
   },
   "outputs": [],
   "source": [
    "def analyze(x, y, fixed_step = 0.4, alpha = 0.5, betta = 0.1, iters = 500, repeat = 10):\n",
    "    n = int(x.shape[0])\n",
    "    k = int(0.8*n)\n",
    "    delta = iters/50\n",
    "    error_fixed = []\n",
    "    error_back = []\n",
    "    loglike_fixed = []\n",
    "    loglike_back = []\n",
    "    for j in xrange(repeat):\n",
    "        a = range(n)\n",
    "        np.random.shuffle(a)\n",
    "        b = a[:k]\n",
    "        c = a[k:]\n",
    "        x_trn = x[b,:]\n",
    "        x_tst = x[c,:]\n",
    "        y_trn = y[b]\n",
    "        y_tst = y[c]\n",
    "        temp_f = []\n",
    "        temp_b = []\n",
    "        k = 0\n",
    "        while (k <= iters):\n",
    "            theta_fixed = logGradientDescent(fixed_step, x_trn, y_trn, k)\n",
    "            theta_back = logGradientDescentBack(x_trn, y_trn, alpha, betta, k)\n",
    "            temp_f.append(loglikelihood(x_tst, y_tst, theta_fixed))\n",
    "            temp_b.append(loglikelihood(x_tst, y_tst, theta_back))\n",
    "            k += delta\n",
    "        error_fixed.append(predError(x_tst, y_tst, theta_fixed))\n",
    "        error_back.append(predError(x_tst, y_tst, theta_back))\n",
    "        loglike_fixed.append(temp_f)\n",
    "        loglike_back.append(temp_b)\n",
    "    ave_fixed = np.sum(loglike_fixed, axis=0)/repeat\n",
    "    ave_back = np.sum(loglike_back, axis=0)/repeat\n",
    "    t = np.arange(0, iters+1, delta)\n",
    "    plt.plot(t, ave_fixed, 'r', t, ave_back, 'b')\n",
    "    plt.ylabel(\"cost\")\n",
    "    plt.xlabel(\"iterations\")\n",
    "    plt.show()\n",
    "    return error_fixed, error_back"
   ]
  },
  {
   "cell_type": "markdown",
   "metadata": {},
   "source": [
    "Here is the graph. Red is GD (gradient descent) with fixed step size and blue is GD with backtracking line search. Here our goal to maximize loglikelihood. We can see that in first 10 iterations fixed step size perform better (probably because of good choice of step size). However by 20th iteration backtracking line search hits the optimal value. Fixed step hits the sam value only after 150 iterations. Interesting feature is that backtracking line search (BLS) starts to give worse results after around 70th iterations. This is because of overfitting. One way to avoid it is to add additional stopping condition to GD with BLS such as stop when difference of consecutive objective functions is insignificant. In this case BLS converges much faster. However we still spend some time on line search every iteration."
   ]
  },
  {
   "cell_type": "code",
   "execution_count": 41,
   "metadata": {
    "collapsed": false
   },
   "outputs": [
    {
     "data": {
      "image/png": "[encoded data removed]",
      "text/plain": [
       "<matplotlib.figure.Figure at 0xa100630>"
      ]
     },
     "metadata": {},
     "output_type": "display_data"
    }
   ],
   "source": [
    "error_fixed, error_back = analyze(x, y, repeat=10)"
   ]
  },
  {
   "cell_type": "code",
   "execution_count": 37,
   "metadata": {
    "collapsed": false
   },
   "outputs": [
    {
     "data": {
      "text/plain": [
       "[0.18681318681318682,\n",
       " 0.1730841121495327,\n",
       " 0.17233644859813085,\n",
       " 0.17682242990654207,\n",
       " 0.18205607476635513,\n",
       " 0.17794392523364486,\n",
       " 0.17943925233644858,\n",
       " 0.16971962616822431,\n",
       " 0.17532710280373831,\n",
       " 0.17532710280373831]"
      ]
     },
     "execution_count": 37,
     "metadata": {},
     "output_type": "execute_result"
    }
   ],
   "source": [
    "error_fixed"
   ]
  },
  {
   "cell_type": "code",
   "execution_count": 38,
   "metadata": {
    "collapsed": false
   },
   "outputs": [
    {
     "data": {
      "text/plain": [
       "0.17688692615795415"
      ]
     },
     "execution_count": 38,
     "metadata": {},
     "output_type": "execute_result"
    }
   ],
   "source": [
    "np.sum(error_fixed)/10"
   ]
  },
  {
   "cell_type": "code",
   "execution_count": 39,
   "metadata": {
    "collapsed": false
   },
   "outputs": [
    {
     "data": {
      "text/plain": [
       "[0.18053375196232338,\n",
       " 0.16897196261682243,\n",
       " 0.17457943925233646,\n",
       " 0.17943925233644858,\n",
       " 0.18654205607476634,\n",
       " 0.18168224299065422,\n",
       " 0.18093457943925234,\n",
       " 0.17196261682242991,\n",
       " 0.18242990654205607,\n",
       " 0.17981308411214952]"
      ]
     },
     "execution_count": 39,
     "metadata": {},
     "output_type": "execute_result"
    }
   ],
   "source": [
    "error_back"
   ]
  },
  {
   "cell_type": "code",
   "execution_count": 40,
   "metadata": {
    "collapsed": false
   },
   "outputs": [
    {
     "data": {
      "text/plain": [
       "0.17868888921492393"
      ]
     },
     "execution_count": 40,
     "metadata": {},
     "output_type": "execute_result"
    }
   ],
   "source": [
    "np.sum(error_back)/10"
   ]
  },
  {
   "cell_type": "markdown",
   "metadata": {},
   "source": [
    "Here we can see that erro of BLS is greater than that of fixed step. I already explained this in graph. "
   ]
  },
  {
   "cell_type": "markdown",
   "metadata": {},
   "source": [
    "It was difficult homework because we haven't covered any implementations of ML algorithms before. However it was very interesting to implement them myself. It took a lot of time to start homework because of setting up and getting used to environment and libraries. This homework helped me understand concepts we covered in class better."
   ]
  }
 ],
 "metadata": {
  "anaconda-cloud": {},
  "kernelspec": {
   "display_name": "Python [default]",
   "language": "python",
   "name": "python2"
  },
  "language_info": {
   "codemirror_mode": {
    "name": "ipython",
    "version": 2
   },
   "file_extension": ".py",
   "mimetype": "text/x-python",
   "name": "python",
   "nbconvert_exporter": "python",
   "pygments_lexer": "ipython2",
   "version": "2.7.12"
  }
 },
 "nbformat": 4,
 "nbformat_minor": 1
}
